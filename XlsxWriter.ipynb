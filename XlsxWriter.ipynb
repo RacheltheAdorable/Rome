{
 "cells": [
  {
   "cell_type": "code",
   "execution_count": 9,
   "metadata": {},
   "outputs": [],
   "source": [
    "import xlsxwriter\n",
    "import os\n",
    "\n",
    "\n",
    "\n",
    "workbook = xlsxwriter.Workbook('test.xlsx')\n",
    "worksheet = workbook.add_worksheet()\n",
    "\n",
    "worksheet.set_column('A:A', 30)\n",
    "\n",
    "red = workbook.add_format({'color': 'red'})\n",
    "blue = workbook.add_format({'color': 'blue'})\n",
    "green =workbook.add_format({'color': 'green'})\n",
    "superscript = workbook.add_format({'font_script': 1})\n",
    "\n",
    "#write_rich_string(row, col, *string_parts, cell_format)\n",
    "# string_parts: string and format pairs\n",
    "\n",
    "worksheet.write_rich_string('A1', '我身高', red,'[170]', '/', blue,'[身高]' )\n",
    "\n",
    "workbook.close()\n"
   ]
  },
  {
   "cell_type": "code",
   "execution_count": 10,
   "metadata": {},
   "outputs": [
    {
     "data": {
      "text/plain": [
       "'/Users/rachelwang/Rome'"
      ]
     },
     "execution_count": 10,
     "metadata": {},
     "output_type": "execute_result"
    }
   ],
   "source": [
    "os.getcwd()"
   ]
  },
  {
   "cell_type": "code",
   "execution_count": null,
   "metadata": {
    "collapsed": true
   },
   "outputs": [],
   "source": []
  }
 ],
 "metadata": {
  "kernelspec": {
   "display_name": "Python 3",
   "language": "python",
   "name": "python3"
  },
  "language_info": {
   "codemirror_mode": {
    "name": "ipython",
    "version": 3
   },
   "file_extension": ".py",
   "mimetype": "text/x-python",
   "name": "python",
   "nbconvert_exporter": "python",
   "pygments_lexer": "ipython3",
   "version": "3.6.3"
  }
 },
 "nbformat": 4,
 "nbformat_minor": 2
}
