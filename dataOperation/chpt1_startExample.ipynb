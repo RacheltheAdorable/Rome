{
 "cells": [
  {
   "cell_type": "code",
   "execution_count": 2,
   "metadata": {},
   "outputs": [
    {
     "ename": "FileNotFoundError",
     "evalue": "[Errno 2] No such file or directory: './python_book/chapter1'",
     "output_type": "error",
     "traceback": [
      "\u001b[0;31m---------------------------------------------------------------------------\u001b[0m",
      "\u001b[0;31mFileNotFoundError\u001b[0m                         Traceback (most recent call last)",
      "\u001b[0;32m<ipython-input-2-5fb66a83f563>\u001b[0m in \u001b[0;36m<module>\u001b[0;34m()\u001b[0m\n\u001b[1;32m      1\u001b[0m \u001b[0;32mimport\u001b[0m \u001b[0mos\u001b[0m\u001b[0;34m\u001b[0m\u001b[0m\n\u001b[1;32m      2\u001b[0m \u001b[0mos\u001b[0m\u001b[0;34m.\u001b[0m\u001b[0mgetcwd\u001b[0m\u001b[0;34m(\u001b[0m\u001b[0;34m)\u001b[0m\u001b[0;34m\u001b[0m\u001b[0m\n\u001b[0;32m----> 3\u001b[0;31m \u001b[0mos\u001b[0m\u001b[0;34m.\u001b[0m\u001b[0mchdir\u001b[0m\u001b[0;34m(\u001b[0m\u001b[0;34m'./python_book/chapter1'\u001b[0m\u001b[0;34m)\u001b[0m\u001b[0;34m\u001b[0m\u001b[0m\n\u001b[0m\u001b[1;32m      4\u001b[0m \u001b[0;34m\u001b[0m\u001b[0m\n\u001b[1;32m      5\u001b[0m \u001b[0;31m# 导入库\u001b[0m\u001b[0;34m\u001b[0m\u001b[0;34m\u001b[0m\u001b[0m\n",
      "\u001b[0;31mFileNotFoundError\u001b[0m: [Errno 2] No such file or directory: './python_book/chapter1'"
     ]
    }
   ],
   "source": [
    "import os \n",
    "os.getcwd()\n",
    "os.chdir('./python_book/chapter1')\n",
    "\n",
    "# 导入库\n",
    "import re\n",
    "import numpy\n",
    "from sklearn import linear_model\n",
    "from matplotlib import pyplot as plt\n",
    "\n",
    "# 导入数据\n",
    "fn = open('data.txt', 'r')\n",
    "all_data = fn.readlines()\n",
    "fn.close()\n",
    "\n",
    "# 数据预处理\n",
    "x = []\n",
    "y = []\n",
    "for single_data in all_data:\n",
    "    tmp_data = re.split('\\t|\\n', single_data)\n",
    "    x.append(float(tmp_data[0]))\n",
    "    y.append(float(tmp_data[1]))\n",
    "\n",
    "x = numpy.array(x).reshape([-1, 1])\n",
    "y = numpy.array(y).reshape([-1, 1])\n",
    "\n",
    "# 数据分析展示\n",
    "plt.scatter(x, y)\n",
    "plt.show()\n",
    "\n",
    "# 数据建模\n",
    "model = linear_model.LinearRegression()\n",
    "model.fit(x, y)\n",
    "\n",
    "# 模型评估\n",
    "model_coef = model.coef_\n",
    "model_intercept = model.intercept_\n",
    "r2 = model.score(x, y)\n",
    "\n",
    "# 销售预测\n",
    "new_x = 84610\n",
    "pre_y = model.predict(new_x)\n",
    "print (pre_y)\n"
   ]
  },
  {
   "cell_type": "code",
   "execution_count": null,
   "metadata": {
    "collapsed": true
   },
   "outputs": [],
   "source": []
  }
 ],
 "metadata": {
  "kernelspec": {
   "display_name": "Python 3",
   "language": "python",
   "name": "python3"
  },
  "language_info": {
   "codemirror_mode": {
    "name": "ipython",
    "version": 3
   },
   "file_extension": ".py",
   "mimetype": "text/x-python",
   "name": "python",
   "nbconvert_exporter": "python",
   "pygments_lexer": "ipython3",
   "version": "3.6.3"
  }
 },
 "nbformat": 4,
 "nbformat_minor": 2
}
