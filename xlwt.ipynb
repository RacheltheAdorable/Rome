{
 "cells": [
  {
   "cell_type": "code",
   "execution_count": 6,
   "metadata": {},
   "outputs": [
    {
     "data": {
      "text/plain": [
       "<xlrd.book.Book at 0x1112d56a0>"
      ]
     },
     "execution_count": 6,
     "metadata": {},
     "output_type": "execute_result"
    }
   ],
   "source": [
    "import os\n",
    "import xlrd\n",
    "import xlwt\n",
    "\n",
    "os.chdir('/Users/rachelwang/monitor-attention')\n",
    "\n",
    "excelFile = 'egExcel.xlsx'\n",
    "excelPath = '/Users/rachelwang/monitor-attention'\n",
    "\n",
    "def open_Excel(excelFile):\n",
    "    #excelFile = unicode(excelFile, 'utf8')\n",
    "    if os.path.isfile(excelFile):\n",
    "        try:\n",
    "            data = xlrd.open_workbook(excelFile)\n",
    "            return data\n",
    "        except Exception:\n",
    "            print(str(e))\n",
    "\n",
    "open_Excel('egExcel.xlsx')\n",
    "    \n"
   ]
  },
  {
   "cell_type": "code",
   "execution_count": null,
   "metadata": {
    "collapsed": true
   },
   "outputs": [],
   "source": [
    "style = xlwt.easyxf('font:bold 0, color red;')\n",
    "sheet.write(5,5,'Cell Contents', style)"
   ]
  },
  {
   "cell_type": "code",
   "execution_count": null,
   "metadata": {
    "collapsed": true
   },
   "outputs": [],
   "source": [
    "def set_color(color, bold=False):\n",
    "    style = xlwt.XFStyle()\n",
    "    font = xlwt.Font()\n",
    "    font.colour_index = color\n",
    "    style.font = font\n",
    "    return style"
   ]
  },
  {
   "cell_type": "code",
   "execution_count": 7,
   "metadata": {
    "collapsed": true
   },
   "outputs": [],
   "source": [
    "#######################################################################\n",
    "#\n",
    "# An example of using Python and XlsxWriter to write some \"rich strings\",\n",
    "# i.e., strings with multiple formats.\n",
    "#\n",
    "# Copyright 2013-2018, John McNamara, jmcnamara@cpan.org\n",
    "#\n",
    "import xlsxwriter\n",
    "\n",
    "workbook = xlsxwriter.Workbook('rich_strings.xlsx')\n",
    "worksheet = workbook.add_worksheet()\n",
    "\n",
    "worksheet.set_column('A:A', 30)\n",
    "\n",
    "# Set up some formats to use.\n",
    "bold = workbook.add_format({'bold': True})\n",
    "italic = workbook.add_format({'italic': True})\n",
    "red = workbook.add_format({'color': 'red'})\n",
    "blue = workbook.add_format({'color': 'blue'})\n",
    "center = workbook.add_format({'align': 'center'})\n",
    "superscript = workbook.add_format({'font_script': 1})\n",
    "\n",
    "# Write some strings with multiple formats.\n",
    "worksheet.write_rich_string('A1',\n",
    "                            'This is ',\n",
    "                            bold, 'bold',\n",
    "                            ' and this is ',\n",
    "                            italic, 'italic')\n",
    "\n",
    "worksheet.write_rich_string('A3',\n",
    "                            'This is ',\n",
    "                            red, 'red',\n",
    "                            ' and this is ',\n",
    "                            blue, 'blue')\n",
    "\n",
    "worksheet.write_rich_string('A5',\n",
    "                            'Some ',\n",
    "                            bold, 'bold text',\n",
    "                            ' centered',\n",
    "                            center)\n",
    "\n",
    "worksheet.write_rich_string('A7',\n",
    "                            italic,\n",
    "                            'j = k',\n",
    "                            superscript, '(n-1)',\n",
    "                            center)\n",
    "\n",
    "workbook.close()"
   ]
  },
  {
   "cell_type": "code",
   "execution_count": null,
   "metadata": {
    "collapsed": true
   },
   "outputs": [],
   "source": []
  }
 ],
 "metadata": {
  "kernelspec": {
   "display_name": "Python 3",
   "language": "python",
   "name": "python3"
  },
  "language_info": {
   "codemirror_mode": {
    "name": "ipython",
    "version": 3
   },
   "file_extension": ".py",
   "mimetype": "text/x-python",
   "name": "python",
   "nbconvert_exporter": "python",
   "pygments_lexer": "ipython3",
   "version": "3.6.3"
  }
 },
 "nbformat": 4,
 "nbformat_minor": 2
}
