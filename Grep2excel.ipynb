{
 "cells": [
  {
   "cell_type": "code",
   "execution_count": 79,
   "metadata": {
    "collapsed": true
   },
   "outputs": [],
   "source": [
    "import os\n",
    "os.chdir('/Users/rachelwang/Documents/data-local/meizh.0417/regex1')\n",
    "in_file = '/Users/rachelwang/Documents/data-local/meizh.0417/meizhuang.preprocessed.lined.txt'\n",
    "reg_file = '/Users/rachelwang/Documents/data-local/meizh.0417/regex1/meizh.reg'"
   ]
  },
  {
   "cell_type": "code",
   "execution_count": 80,
   "metadata": {},
   "outputs": [],
   "source": [
    "\n",
    "import re\n",
    "import datetime\n",
    "import time\n",
    "import xlwt #需要的模块\n",
    " \n",
    "def txt2xls(filename,xlsname):  #文本转换成xls的函数，filename 表示一个要被转换的txt文本，xlsname 表示转换后的文件名\n",
    "    #print('converting xls ... ')\n",
    "    f = open(filename)   #打开txt文本进行读取\n",
    "    x = 0                #在excel开始写的位置（y）\n",
    "    y = 0                #在excel开始写的位置（x）\n",
    "    xls=xlwt.Workbook()\n",
    "    sheet = xls.add_sheet('sheet1',cell_overwrite_ok=True) #生成excel的方法，声明excel\n",
    "    while True:  #循环，读取文本里面的所有内容\n",
    "        line = f.readline() #一行一行读取\n",
    "        if not line:  #如果没有内容，则退出循环\n",
    "            break\n",
    "        for i in line.split('\\t'):#读取出相应的内容写到x\n",
    "            item=i.strip()\n",
    "            sheet.write(x,y,item)\n",
    "            y += 1 #另起一列\n",
    "        x += 1 #另起一行\n",
    "        y = 0  #初始成第一列\n",
    "    f.close()\n",
    "    xls.save(xlsname+'.xls') #保存\n",
    "\n",
    "\n",
    "with open(in_file, 'r') as f1:\n",
    "    txtlines = f1.readlines()\n",
    "\n",
    "with open(reg_file, 'r') as f2:\n",
    "    regLines = f2.readlines()\n",
    "    \n",
    "for regLine in regLines:\n",
    "    tp_ls = regLine.split('\\t')\n",
    "    p = re.compile(tp_ls[1])\n",
    "    tg_lines = list()\n",
    "    for txtline in txtlines:\n",
    "        txtchain = txtline.split('\\t')\n",
    "        if len(txtchain)>2 and txtchain[2] == 'C' and p.search(txtchain[4]):\n",
    "            tg_lines.append(txtline)\n",
    "    with open(tp_ls[0]+'.txt', 'w') as w3:\n",
    "        w3.writelines(tg_lines)\n",
    "    txt2xls(tp_ls[0]+'.txt', tp_ls[0]+'.xls')"
   ]
  },
  {
   "cell_type": "code",
   "execution_count": null,
   "metadata": {
    "collapsed": true
   },
   "outputs": [],
   "source": []
  },
  {
   "cell_type": "markdown",
   "metadata": {},
   "source": [
    "## 清洗：替换所有链接为[链接]"
   ]
  },
  {
   "cell_type": "code",
   "execution_count": 17,
   "metadata": {},
   "outputs": [],
   "source": [
    "os.chdir('/Users/rachelwang/Documents/data-local/meizh.0417')\n",
    "in_file = '/Users/rachelwang/Documents/data-local/meizh.0417/meizhuang.preprocessed.lined.txt'\n",
    "with open(in_file, 'r') as f2:\n",
    "    rawlines = f2.readlines()\n",
    "\n",
    "clean_file = list()\n",
    "for rawline in rawlines:\n",
    "    rawchain = rawline.split('\\t')\n",
    "    if len(rawchain)>2 and rawchain[4].startswith('http'):\n",
    "        rawchain[4] = '[链接]'\n",
    "        newline = '\\t'.join(rawchain)\n",
    "        clean_file.append(newline)\n",
    "    else:\n",
    "        clean_file.append(rawline)\n",
    "with open('meizhuang.preprocessed.lined.clean.txt', 'w') as w2:\n",
    "    w2.writelines(clean_file)\n",
    "    \n",
    "        "
   ]
  },
  {
   "cell_type": "markdown",
   "metadata": {},
   "source": [
    "## 清洗：替换所有[]*内容为[千牛]"
   ]
  },
  {
   "cell_type": "code",
   "execution_count": 19,
   "metadata": {},
   "outputs": [],
   "source": [
    "import re\n",
    "\n",
    "with open('meizhuang.preprocessed.lined.clean.txt', 'r') as f3:\n",
    "    rawcontent = f3.read()\n",
    "\n",
    "p = re.compile(r'\\t\\[表情\\]|\\[图片\\]|\\[卡片\\]|\\[未知\\]\\t')\n",
    "newcontent = re.sub(p, '[千牛]',rawcontent)\n",
    "\n",
    "\n",
    "\n",
    "with open('meizhuang.preprocessed.lined.clean2.txt', 'w') as w3:\n",
    "    w3.write(newcontent)"
   ]
  },
  {
   "cell_type": "markdown",
   "metadata": {},
   "source": [
    "## 筛选出所有包含spu的query，以便找到'咨询商品品类'"
   ]
  },
  {
   "cell_type": "code",
   "execution_count": 55,
   "metadata": {},
   "outputs": [
    {
     "name": "stdout",
     "output_type": "stream",
     "text": [
      "spu_lines num: 8084\n",
      "specificity_lines num: 114079\n",
      "spu_specificity_lines num: 23783\n"
     ]
    }
   ],
   "source": [
    "import pprint\n",
    "\n",
    "\n",
    "with open('meizhuang.preprocessed.lined.txt', 'r') as f4:\n",
    "    rlines = f4.readlines()\n",
    "    \n",
    "spu_lines = list()\n",
    "specificity_lines = list()\n",
    "spu_specificity_lines = list()\n",
    "start = ('0.7','0.8','0.9','1')\n",
    "\n",
    "for rline in rlines:\n",
    "    rchain = rline.split('\\t')\n",
    "    if len(rchain)>7:\n",
    "    #and rchain[2]=='C' and rchain[6]=='false':\n",
    "        spu_lines.append(rline)\n",
    "    elif len(rchain)>6 and rchain[5].startswith(start) and len(rchain[4])>4:\n",
    "        specificity_lines.append(rline)\n",
    "    elif len(rchain)>=7 and rchain[5].startswith(start):\n",
    "        spu_specificity_lines.append(line)\n",
    "\n",
    "\n",
    "\n",
    "\n",
    "print('spu_lines num:',len(spu_lines))    \n",
    "print('specificity_lines num:',len(specificity_lines))\n",
    "print('spu_specificity_lines num:', len(spu_specificity_lines))\n",
    "#pprint.pprint(spu_specificity_lines)\n",
    "\n"
   ]
  },
  {
   "cell_type": "code",
   "execution_count": 56,
   "metadata": {
    "collapsed": true
   },
   "outputs": [],
   "source": [
    "with open('specificity_lines.txt', 'w') as w5:\n",
    "    w5.writelines(specificity_lines)"
   ]
  },
  {
   "cell_type": "code",
   "execution_count": null,
   "metadata": {
    "collapsed": true
   },
   "outputs": [],
   "source": []
  }
 ],
 "metadata": {
  "kernelspec": {
   "display_name": "Python 3",
   "language": "python",
   "name": "python3"
  },
  "language_info": {
   "codemirror_mode": {
    "name": "ipython",
    "version": 3
   },
   "file_extension": ".py",
   "mimetype": "text/x-python",
   "name": "python",
   "nbconvert_exporter": "python",
   "pygments_lexer": "ipython3",
   "version": "3.6.3"
  }
 },
 "nbformat": 4,
 "nbformat_minor": 2
}
