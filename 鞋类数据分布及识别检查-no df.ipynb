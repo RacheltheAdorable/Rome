{
 "cells": [
  {
   "cell_type": "markdown",
   "metadata": {},
   "source": [
    "### step1: csv2tsv"
   ]
  },
  {
   "cell_type": "code",
   "execution_count": 121,
   "metadata": {},
   "outputs": [],
   "source": [
    "import os\n",
    "import collections\n",
    "import pandas as pd\n",
    "import pprint\n",
    "\n",
    "os.chdir('/Users/rachelwang/shoe')\n",
    "\n",
    "#files = os.listdir()\n",
    "\n",
    "files = [i for i in os.listdir() if i.endswith('.csv')] #当前文件夹下有csv&tsv,so do it this way\n",
    "\n",
    "for file in files:\n",
    "    df = pd.read_csv(file)\n",
    "    df.to_csv(file.rstrip('.csv')+'.tsv', sep='\\t')"
   ]
  },
  {
   "cell_type": "markdown",
   "metadata": {},
   "source": [
    "### step2: cnts_on_store_level"
   ]
  },
  {
   "cell_type": "code",
   "execution_count": 125,
   "metadata": {},
   "outputs": [
    {
     "name": "stdout",
     "output_type": "stream",
     "text": [
      "['2-回力风林.tsv', '8-波尔谛奇.tsv', '5-时光机.tsv', '4-芭芭鸭鞋城.tsv', '3-回力旺牛.tsv', '7-环球.tsv', '1-回力萨沙.tsv', '6-海豚湾.tsv', '9-playboy.tsv', '10-奥尔比.tsv']\n"
     ]
    }
   ],
   "source": [
    "\n",
    "#for file in all_files:\n",
    "#    if file.endswith('.csv.tsv'):\n",
    "#        os.remove(file)  删除掉某一后缀的文件\n",
    "\n",
    "\n",
    "all_files = os.listdir()\n",
    "tsv_files = [i  for i in all_files if i.endswith('.tsv')]\n",
    "\n",
    "print(tsv_files)"
   ]
  },
  {
   "cell_type": "code",
   "execution_count": 126,
   "metadata": {},
   "outputs": [
    {
     "name": "stdout",
     "output_type": "stream",
     "text": [
      "{'2-回力风林.tsv': 0, '8-波尔谛奇.tsv': 0, '5-时光机.tsv': 0, '4-芭芭鸭鞋城.tsv': 0, '3-回力旺牛.tsv': 0, '7-环球.tsv': 0, '1-回力萨沙.tsv': 0, '6-海豚湾.tsv': 0, '9-playboy.tsv': 0, '10-奥尔比.tsv': 0}\n"
     ]
    }
   ],
   "source": [
    "shoe_specific_ls =['咨询尺寸','咨询材质种类','咨询商品物理尺寸','咨询款式','咨询功能','咨询品牌','咨询是否有现货','咨询某商品颜色建议','咨询尺码标准','咨询质量','咨询保养方法','咨询上脚效果','咨询尺码差距','咨询色差','咨询材质软硬','咨询舒适度','咨询退换标准','咨询退换运费','商品不满意原因陈述']\n",
    "\n",
    "amount_dict = dict.fromkeys(tsv_files, 0) #每个店铺的问题总数\n",
    "topic_cnt_dict = dict.fromkeys(tsv_files, 'e') #每个店铺每个意图的总数\n",
    "qt_cnt_dict = dict.fromkeys(tsv_files, 0) #每个店铺识别为其他的总数\n",
    "undetected_dict = dict.fromkeys(tsv_files, 0) #每个店铺未识别的总数\n",
    "da_dict = dict.fromkeys(tsv_files, 0) #每个店铺DA的总数\n",
    "specific_cnt_dict = dict.fromkeys(tsv_files, 'e') #每个店铺每个专属意图的总数\n",
    "specific_sum_dict = dict.fromkeys(tsv_files, 'e') #每个店铺所有专属意图的总数\n",
    "\n",
    "print(amount_dict) \n"
   ]
  },
  {
   "cell_type": "code",
   "execution_count": 131,
   "metadata": {},
   "outputs": [
    {
     "name": "stdout",
     "output_type": "stream",
     "text": [
      "意图为其他\n",
      "{'1-回力萨沙.tsv': 6454,\n",
      " '10-奥尔比.tsv': 312,\n",
      " '2-回力风林.tsv': 4313,\n",
      " '3-回力旺牛.tsv': 7715,\n",
      " '4-芭芭鸭鞋城.tsv': 3767,\n",
      " '5-时光机.tsv': 3818,\n",
      " '6-海豚湾.tsv': 2378,\n",
      " '7-环球.tsv': 10385,\n",
      " '8-波尔谛奇.tsv': 727,\n",
      " '9-playboy.tsv': 259}\n",
      "意图未识别\n",
      "{'1-回力萨沙.tsv': 132,\n",
      " '10-奥尔比.tsv': 5,\n",
      " '2-回力风林.tsv': 97,\n",
      " '3-回力旺牛.tsv': 110,\n",
      " '4-芭芭鸭鞋城.tsv': 74,\n",
      " '5-时光机.tsv': 49,\n",
      " '6-海豚湾.tsv': 52,\n",
      " '7-环球.tsv': 233,\n",
      " '8-波尔谛奇.tsv': 10,\n",
      " '9-playboy.tsv': 6}\n",
      "DA\n",
      "{'1-回力萨沙.tsv': 1996,\n",
      " '10-奥尔比.tsv': 46,\n",
      " '2-回力风林.tsv': 2343,\n",
      " '3-回力旺牛.tsv': 4898,\n",
      " '4-芭芭鸭鞋城.tsv': 1588,\n",
      " '5-时光机.tsv': 745,\n",
      " '6-海豚湾.tsv': 572,\n",
      " '7-环球.tsv': 6754,\n",
      " '8-波尔谛奇.tsv': 192,\n",
      " '9-playboy.tsv': 310}\n",
      "每个店铺每个专属意图的数量\n",
      "{'1-回力萨沙.tsv': {'咨询上脚效果': 1,\n",
      "                '咨询保养方法': 6,\n",
      "                '咨询功能': 11,\n",
      "                '咨询品牌': 7,\n",
      "                '咨询商品物理尺寸': 34,\n",
      "                '咨询尺寸': 1224,\n",
      "                '咨询尺码差距': 6,\n",
      "                '咨询尺码标准': 400,\n",
      "                '咨询是否有现货': 246,\n",
      "                '咨询材质种类': 49,\n",
      "                '咨询材质软硬': 24,\n",
      "                '咨询款式': 5,\n",
      "                '咨询舒适度': 11,\n",
      "                '咨询色差': 2,\n",
      "                '咨询质量': 14,\n",
      "                '咨询退换标准': 45,\n",
      "                '咨询退换运费': 30,\n",
      "                '商品不满意原因陈述': 17},\n",
      " '10-奥尔比.tsv': {'咨询功能': 4,\n",
      "                '咨询品牌': 1,\n",
      "                '咨询商品物理尺寸': 7,\n",
      "                '咨询尺寸': 46,\n",
      "                '咨询尺码标准': 18,\n",
      "                '咨询是否有现货': 4,\n",
      "                '咨询材质种类': 14,\n",
      "                '咨询材质软硬': 3,\n",
      "                '咨询款式': 8,\n",
      "                '咨询舒适度': 5,\n",
      "                '咨询质量': 6,\n",
      "                '咨询退换标准': 6,\n",
      "                '咨询退换运费': 1,\n",
      "                '商品不满意原因陈述': 2},\n",
      " '2-回力风林.tsv': {'咨询上脚效果': 1,\n",
      "                '咨询保养方法': 5,\n",
      "                '咨询功能': 25,\n",
      "                '咨询品牌': 3,\n",
      "                '咨询商品物理尺寸': 16,\n",
      "                '咨询尺寸': 967,\n",
      "                '咨询尺码差距': 1,\n",
      "                '咨询尺码标准': 567,\n",
      "                '咨询是否有现货': 129,\n",
      "                '咨询材质种类': 47,\n",
      "                '咨询材质软硬': 15,\n",
      "                '咨询某商品颜色建议': 3,\n",
      "                '咨询款式': 7,\n",
      "                '咨询舒适度': 4,\n",
      "                '咨询质量': 61,\n",
      "                '咨询退换标准': 32,\n",
      "                '咨询退换运费': 7,\n",
      "                '商品不满意原因陈述': 11},\n",
      " '3-回力旺牛.tsv': {'咨询上脚效果': 2,\n",
      "                '咨询保养方法': 4,\n",
      "                '咨询功能': 39,\n",
      "                '咨询商品物理尺寸': 35,\n",
      "                '咨询尺寸': 1562,\n",
      "                '咨询尺码差距': 1,\n",
      "                '咨询尺码标准': 47,\n",
      "                '咨询是否有现货': 216,\n",
      "                '咨询材质种类': 67,\n",
      "                '咨询材质软硬': 32,\n",
      "                '咨询某商品颜色建议': 3,\n",
      "                '咨询款式': 1,\n",
      "                '咨询舒适度': 41,\n",
      "                '咨询质量': 95,\n",
      "                '咨询退换标准': 107,\n",
      "                '咨询退换运费': 49,\n",
      "                '商品不满意原因陈述': 21},\n",
      " '4-芭芭鸭鞋城.tsv': {'咨询功能': 27,\n",
      "                 '咨询品牌': 2,\n",
      "                 '咨询商品物理尺寸': 4,\n",
      "                 '咨询尺寸': 928,\n",
      "                 '咨询尺码差距': 1,\n",
      "                 '咨询尺码标准': 311,\n",
      "                 '咨询是否有现货': 120,\n",
      "                 '咨询材质种类': 59,\n",
      "                 '咨询材质软硬': 19,\n",
      "                 '咨询某商品颜色建议': 1,\n",
      "                 '咨询款式': 1,\n",
      "                 '咨询舒适度': 6,\n",
      "                 '咨询色差': 2,\n",
      "                 '咨询质量': 61,\n",
      "                 '咨询退换标准': 74,\n",
      "                 '咨询退换运费': 22,\n",
      "                 '商品不满意原因陈述': 5},\n",
      " '5-时光机.tsv': {'咨询功能': 25,\n",
      "               '咨询商品物理尺寸': 6,\n",
      "               '咨询尺寸': 640,\n",
      "               '咨询尺码标准': 108,\n",
      "               '咨询是否有现货': 95,\n",
      "               '咨询材质种类': 36,\n",
      "               '咨询材质软硬': 27,\n",
      "               '咨询某商品颜色建议': 4,\n",
      "               '咨询舒适度': 12,\n",
      "               '咨询色差': 1,\n",
      "               '咨询质量': 75,\n",
      "               '咨询退换标准': 34,\n",
      "               '咨询退换运费': 23,\n",
      "               '商品不满意原因陈述': 3},\n",
      " '6-海豚湾.tsv': {'咨询保养方法': 1,\n",
      "               '咨询功能': 29,\n",
      "               '咨询品牌': 1,\n",
      "               '咨询商品物理尺寸': 7,\n",
      "               '咨询尺寸': 583,\n",
      "               '咨询尺码标准': 50,\n",
      "               '咨询是否有现货': 29,\n",
      "               '咨询材质种类': 17,\n",
      "               '咨询材质软硬': 24,\n",
      "               '咨询舒适度': 12,\n",
      "               '咨询质量': 66,\n",
      "               '咨询退换标准': 45,\n",
      "               '咨询退换运费': 14,\n",
      "               '商品不满意原因陈述': 8},\n",
      " '7-环球.tsv': {'咨询上脚效果': 10,\n",
      "              '咨询保养方法': 6,\n",
      "              '咨询功能': 120,\n",
      "              '咨询品牌': 7,\n",
      "              '咨询商品物理尺寸': 128,\n",
      "              '咨询尺寸': 1293,\n",
      "              '咨询尺码差距': 3,\n",
      "              '咨询尺码标准': 1453,\n",
      "              '咨询是否有现货': 411,\n",
      "              '咨询材质种类': 189,\n",
      "              '咨询材质软硬': 44,\n",
      "              '咨询某商品颜色建议': 10,\n",
      "              '咨询款式': 84,\n",
      "              '咨询舒适度': 37,\n",
      "              '咨询色差': 6,\n",
      "              '咨询质量': 88,\n",
      "              '咨询退换标准': 128,\n",
      "              '咨询退换运费': 50,\n",
      "              '商品不满意原因陈述': 19},\n",
      " '8-波尔谛奇.tsv': {'咨询保养方法': 3,\n",
      "                '咨询功能': 6,\n",
      "                '咨询品牌': 3,\n",
      "                '咨询商品物理尺寸': 6,\n",
      "                '咨询尺寸': 64,\n",
      "                '咨询尺码标准': 41,\n",
      "                '咨询是否有现货': 18,\n",
      "                '咨询材质种类': 15,\n",
      "                '咨询材质软硬': 7,\n",
      "                '咨询款式': 6,\n",
      "                '咨询舒适度': 4,\n",
      "                '咨询质量': 14,\n",
      "                '咨询退换标准': 5,\n",
      "                '咨询退换运费': 4,\n",
      "                '商品不满意原因陈述': 3},\n",
      " '9-playboy.tsv': {'咨询功能': 26,\n",
      "                   '咨询品牌': 1,\n",
      "                   '咨询商品物理尺寸': 1,\n",
      "                   '咨询尺寸': 45,\n",
      "                   '咨询尺码标准': 63,\n",
      "                   '咨询是否有现货': 4,\n",
      "                   '咨询材质种类': 12,\n",
      "                   '咨询材质软硬': 7,\n",
      "                   '咨询款式': 1,\n",
      "                   '咨询舒适度': 4,\n",
      "                   '咨询质量': 10,\n",
      "                   '咨询退换标准': 3,\n",
      "                   '咨询退换运费': 1}}\n",
      "每个店铺所有专属意图的总数\n",
      "{'1-回力萨沙.csv.tsv': 2132,\n",
      " '1-回力萨沙.tsv': 2132,\n",
      " '10-奥尔比.csv.tsv': 125,\n",
      " '10-奥尔比.tsv': 125,\n",
      " '2-回力风林.csv.tsv': 1901,\n",
      " '2-回力风林.tsv': 1901,\n",
      " '3-回力旺牛.csv.tsv': 2322,\n",
      " '3-回力旺牛.tsv': 2322,\n",
      " '4-芭芭鸭鞋城.csv.tsv': 1643,\n",
      " '4-芭芭鸭鞋城.tsv': 1643,\n",
      " '5-时光机.csv.tsv': 1089,\n",
      " '5-时光机.tsv': 1089,\n",
      " '6-海豚湾.csv.tsv': 886,\n",
      " '6-海豚湾.tsv': 886,\n",
      " '7-环球.csv.tsv': 4086,\n",
      " '7-环球.tsv': 4086,\n",
      " '8-波尔谛奇.csv.tsv': 199,\n",
      " '8-波尔谛奇.tsv': 199,\n",
      " '9-playboy.csv.tsv': 178,\n",
      " '9-playboy.tsv': 178}\n"
     ]
    }
   ],
   "source": [
    "for tsv_file in tsv_files:\n",
    "    with open(tsv_file, 'r') as f:\n",
    "        lines = f.readlines()\n",
    "        count = list()\n",
    "        topic = list()\n",
    "        #qt = list()\n",
    "        for line in lines:\n",
    "            if 'QUESTION' in line:\n",
    "                count.append(line)\n",
    "                topic.append(line.rstrip('\\n').split('\\t')[6])\n",
    "        amount_dict[tsv_file] = len(count)\n",
    "        topic_cnt_dict[tsv_file] = dict(collections.Counter(topic))\n",
    "        qt_cnt_dict[tsv_file] = topic_cnt_dict[tsv_file]['其他']\n",
    "        undetected_dict[tsv_file] = topic_cnt_dict[tsv_file]['']\n",
    "        da_dict[tsv_file] = topic_cnt_dict[tsv_file]['[DIRECT_ANSWER]']\n",
    "        \n",
    "for item, value in topic_cnt_dict.items():\n",
    "    specific_cnt_dict[item] = dict()\n",
    "    for sub_i in value.keys():\n",
    "        if sub_i in shoe_specific_ls:\n",
    "            specific_cnt_dict[item][sub_i] = value[sub_i]\n",
    "\n",
    "for i, v in specific_cnt_dict.items():\n",
    "    #specific_sum_dict[i] = list()\n",
    "    sum = 0\n",
    "    for s_v in v.values():\n",
    "        sum += s_v\n",
    "    specific_sum_dict[i] = sum\n",
    "    #specific_sum_dict[i].append(sum)\n",
    "    \n",
    "\n",
    "    \n",
    "\n",
    "print('意图为其他')\n",
    "pprint.pprint( qt_cnt_dict)\n",
    "\n",
    "print('意图未识别')\n",
    "pprint.pprint(undetected_dict)\n",
    "\n",
    "print('DA')\n",
    "pprint.pprint(da_dict)\n",
    "\n",
    "print('每个店铺每个专属意图的数量')\n",
    "pprint.pprint(specific_cnt_dict)\n",
    "\n",
    "print('每个店铺所有专属意图的总数')\n",
    "pprint.pprint(specific_sum_dict)"
   ]
  },
  {
   "cell_type": "markdown",
   "metadata": {},
   "source": [
    "### 每家店每个意图的数量写入json"
   ]
  },
  {
   "cell_type": "code",
   "execution_count": 132,
   "metadata": {
    "collapsed": true
   },
   "outputs": [],
   "source": [
    "json_str = json.dumps(topic_cnt_dict, indent=4, ensure_ascii=False)\n",
    "with open('intent_count.json', 'w') as f:\n",
    "    f.write(json_str)"
   ]
  },
  {
   "cell_type": "markdown",
   "metadata": {},
   "source": [
    "### step3: 所有店铺所有意图"
   ]
  },
  {
   "cell_type": "code",
   "execution_count": 133,
   "metadata": {},
   "outputs": [
    {
     "name": "stdout",
     "output_type": "stream",
     "text": [
      "{'': 768, '申请换货': 563, '催揽收': 14, '咨询优惠券规则': 191, '咨询卖家发货数量': 29, '提供买家收货地': 187, '有差价申请补差价': 190, '咨询店铺直播优惠': 33, '要求重拍': 214, '咨询品牌': 25, '收到包裹': 326, '报新地址': 192, '运费计算': 11, '报新收货人信息': 74, '咨询售后卡': 40, '催物流进度': 70, '咨询操作过程1': 777, '咨询上脚效果': 14, '咨询材质种类': 505, '寄回快递单号': 107, '咨询是否有现货': 1272, '咨询赠品': 129, '提出改收货人要求': 16, '提出改地址要求': 76, '买家指定发货方式': 29, '催派送': 23, '邮费议价': 152, '说明垫付运费金额': 22, '重新备注尺寸': 23, '咨询如何看直播': 1, '咨询是否会补货': 109, '咨询商品直播优惠': 3, '取消': 101, '陈述已看直播事实': 10, '议价': 1386, '咨询活动规则': 182, '咨询保养方法': 25, '咨询材质': 1, '提供号码': 420, '咨询预订': 19, '否认': 149, '咨询材质软硬': 202, '确认': 3423, '咨询运费险': 26, '要求返现': 65, '咨询尺码差距': 12, '转售后': 113, '已经拍下': 294, '确认当前地址': 273, '买家指定快递种类': 830, '咨询功能': 312, '已完成所需操作': 311, '质问无物流信息原因': 39, '申请退还垫付运费': 143, '[DIRECT_ANSWER]': 19444, '咨询舒适度': 136, '催发货': 3638, '询问退货地址': 346, '咨询退换标准': 479, '寄回快递种类': 5, '申请退货': 552, '问候语': 6138, '寄回货品': 262, '咨询款式': 113, '咨询退换运费': 201, '要求补偿费用': 24, '咨询某商品颜色建议': 21, '咨询当前发货状态': 56, '咨询尺码标准': 3058, '咨询色差': 11, '已经网上申请退货或退款要求通过': 547, '咨询操作过程2': 508, '咨询质量': 490, '咨询商品物理尺寸': 244, '咨询尺寸': 7352, '咨询发货公休时间': 7, '转人工': 113, '其他': 40128, '咨询店铺优惠活动': 236, '已经付款': 75, '咨询商品优惠活动': 41, '咨询卖家默认发货方式': 10, '咨询卖家发货地': 9, '拍错商品': 76, '咨询物流进度': 22, '咨询价格': 175, '申请退款': 312, '咨询直播专享价': 7, '公司是否收到货品': 236, '咨询直播时间': 1, '商品不满意原因陈述': 89, '咨询满减规则': 16}\n"
     ]
    }
   ],
   "source": [
    "key_ls = list()\n",
    "for v in topic_cnt_dict.values():\n",
    "    for k in v.keys():\n",
    "        key_ls.append(k)\n",
    "key_ls = set(key_ls)\n",
    "\n",
    "all_count = dict.fromkeys(key_ls, 0)\n",
    "\n",
    "for v in topic_cnt_dict.values():\n",
    "    for ke, va in v.items():\n",
    "        all_count[ke] += va\n",
    "print(all_count)"
   ]
  },
  {
   "cell_type": "markdown",
   "metadata": {},
   "source": [
    "### 结果写入txt or xlsx"
   ]
  },
  {
   "cell_type": "code",
   "execution_count": 134,
   "metadata": {},
   "outputs": [
    {
     "name": "stdout",
     "output_type": "stream",
     "text": [
      "['\\t768\\n', '申请换货\\t563\\n', '催揽收\\t14\\n', '咨询优惠券规则\\t191\\n', '咨询卖家发货数量\\t29\\n', '提供买家收货地\\t187\\n', '有差价申请补差价\\t190\\n', '咨询店铺直播优惠\\t33\\n', '要求重拍\\t214\\n', '咨询品牌\\t25\\n', '收到包裹\\t326\\n', '报新地址\\t192\\n', '运费计算\\t11\\n', '报新收货人信息\\t74\\n', '咨询售后卡\\t40\\n', '催物流进度\\t70\\n', '咨询操作过程1\\t777\\n', '咨询上脚效果\\t14\\n', '咨询材质种类\\t505\\n', '寄回快递单号\\t107\\n', '咨询是否有现货\\t1272\\n', '咨询赠品\\t129\\n', '提出改收货人要求\\t16\\n', '提出改地址要求\\t76\\n', '买家指定发货方式\\t29\\n', '催派送\\t23\\n', '邮费议价\\t152\\n', '说明垫付运费金额\\t22\\n', '重新备注尺寸\\t23\\n', '咨询如何看直播\\t1\\n', '咨询是否会补货\\t109\\n', '咨询商品直播优惠\\t3\\n', '取消\\t101\\n', '陈述已看直播事实\\t10\\n', '议价\\t1386\\n', '咨询活动规则\\t182\\n', '咨询保养方法\\t25\\n', '咨询材质\\t1\\n', '提供号码\\t420\\n', '咨询预订\\t19\\n', '否认\\t149\\n', '咨询材质软硬\\t202\\n', '确认\\t3423\\n', '咨询运费险\\t26\\n', '要求返现\\t65\\n', '咨询尺码差距\\t12\\n', '转售后\\t113\\n', '已经拍下\\t294\\n', '确认当前地址\\t273\\n', '买家指定快递种类\\t830\\n', '咨询功能\\t312\\n', '已完成所需操作\\t311\\n', '质问无物流信息原因\\t39\\n', '申请退还垫付运费\\t143\\n', '[DIRECT_ANSWER]\\t19444\\n', '咨询舒适度\\t136\\n', '催发货\\t3638\\n', '询问退货地址\\t346\\n', '咨询退换标准\\t479\\n', '寄回快递种类\\t5\\n', '申请退货\\t552\\n', '问候语\\t6138\\n', '寄回货品\\t262\\n', '咨询款式\\t113\\n', '咨询退换运费\\t201\\n', '要求补偿费用\\t24\\n', '咨询某商品颜色建议\\t21\\n', '咨询当前发货状态\\t56\\n', '咨询尺码标准\\t3058\\n', '咨询色差\\t11\\n', '已经网上申请退货或退款要求通过\\t547\\n', '咨询操作过程2\\t508\\n', '咨询质量\\t490\\n', '咨询商品物理尺寸\\t244\\n', '咨询尺寸\\t7352\\n', '咨询发货公休时间\\t7\\n', '转人工\\t113\\n', '其他\\t40128\\n', '咨询店铺优惠活动\\t236\\n', '已经付款\\t75\\n', '咨询商品优惠活动\\t41\\n', '咨询卖家默认发货方式\\t10\\n', '咨询卖家发货地\\t9\\n', '拍错商品\\t76\\n', '咨询物流进度\\t22\\n', '咨询价格\\t175\\n', '申请退款\\t312\\n', '咨询直播专享价\\t7\\n', '公司是否收到货品\\t236\\n', '咨询直播时间\\t1\\n', '商品不满意原因陈述\\t89\\n', '咨询满减规则\\t16\\n']\n"
     ]
    }
   ],
   "source": [
    "all_count_ls =list()\n",
    "for key, value in all_count.items():\n",
    "    all_count_ls.append('{}\\t{}\\n'.format(key, value))\n",
    "    \n",
    "print(all_count_ls)\n",
    "\n",
    "with open('all_count.txt', 'w') as w:\n",
    "    w.writelines(all_count_ls)\n",
    "    \n",
    "import xlsxwriter\n",
    "\n",
    "workbook = xlsxwriter.Workbook('shoes_all_cnt.xlsx')\n",
    "worksheet = workbook.add_worksheet()\n",
    "\n",
    "i=1\n",
    "for line in all_count_ls:\n",
    "    chain = line.split('\\t')\n",
    "    worksheet.write_rich_string('A'+str(i), chain[0])\n",
    "    worksheet.write_rich_string('B'+str(i), chain[1])\n",
    "    i += 1\n"
   ]
  },
  {
   "cell_type": "code",
   "execution_count": 110,
   "metadata": {
    "collapsed": true
   },
   "outputs": [],
   "source": [
    "shoes = [i+'\\t100\\n' for i in shoe_specific_ls]\n",
    "with open('鞋类抽样数量.txt', 'w') as w2:\n",
    "    w2.writelines(shoes)"
   ]
  },
  {
   "cell_type": "code",
   "execution_count": null,
   "metadata": {
    "collapsed": true
   },
   "outputs": [],
   "source": []
  }
 ],
 "metadata": {
  "kernelspec": {
   "display_name": "Python 3",
   "language": "python",
   "name": "python3"
  },
  "language_info": {
   "codemirror_mode": {
    "name": "ipython",
    "version": 3
   },
   "file_extension": ".py",
   "mimetype": "text/x-python",
   "name": "python",
   "nbconvert_exporter": "python",
   "pygments_lexer": "ipython3",
   "version": "3.6.3"
  }
 },
 "nbformat": 4,
 "nbformat_minor": 2
}
