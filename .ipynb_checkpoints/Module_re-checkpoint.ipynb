{
 "cells": [
  {
   "cell_type": "code",
   "execution_count": 2,
   "metadata": {},
   "outputs": [
    {
     "data": {
      "text/plain": [
       "'415-555-6789'"
      ]
     },
     "execution_count": 2,
     "metadata": {},
     "output_type": "execute_result"
    }
   ],
   "source": [
    "import re\n",
    "\n",
    "phNum = re.compile(r'\\d\\d\\d-\\d\\d\\d-\\d\\d\\d\\d')\n",
    "mo = phNum.search('My phone number is 415-555-6789')\n",
    "mo.group()"
   ]
  },
  {
   "cell_type": "code",
   "execution_count": 9,
   "metadata": {},
   "outputs": [
    {
     "data": {
      "text/plain": [
       "'555-6789'"
      ]
     },
     "execution_count": 9,
     "metadata": {},
     "output_type": "execute_result"
    }
   ],
   "source": [
    "phNumgrp = re.compile(r'(\\d\\d\\d)-(\\d\\d\\d-\\d\\d\\d\\d)')\n",
    "mo = phNumgrp.search('My phone number is 415-555-6789')\n",
    "mo.groups()\n",
    "mo.group(1)\n",
    "mo.group(2)"
   ]
  },
  {
   "cell_type": "code",
   "execution_count": 15,
   "metadata": {},
   "outputs": [
    {
     "data": {
      "text/plain": [
       "['Batman', 'Tina Fey']"
      ]
     },
     "execution_count": 15,
     "metadata": {},
     "output_type": "execute_result"
    }
   ],
   "source": [
    "heroReg = re.compile(r'Batman|Tina Fey')\n",
    "mo1 = heroReg.search('Batman and Tina Fey')\n",
    "mo1.group()\n",
    "\n",
    "mo2 = heroReg.search('Tina Fey and Batman')\n",
    "mo2.group()\n",
    "\n",
    "heroReg.findall('Batman and Tina Fey')"
   ]
  },
  {
   "cell_type": "code",
   "execution_count": 18,
   "metadata": {},
   "outputs": [
    {
     "data": {
      "text/plain": [
       "'HaHaHa'"
      ]
     },
     "execution_count": 18,
     "metadata": {},
     "output_type": "execute_result"
    }
   ],
   "source": [
    "greedyHa = re.compile(r'(Ha){3,5}')\n",
    "mo1 = greedyHa.search('HaHaHaHaHa')   #默认贪心\n",
    "mo1.group()\n",
    "\n",
    "nongreedyHa = re.compile(r'(Ha){3,5}?')\n",
    "mo2 = nongreedyHa.search('HaHaHaHaHa')\n",
    "mo2.group()"
   ]
  },
  {
   "cell_type": "code",
   "execution_count": null,
   "metadata": {
    "collapsed": true
   },
   "outputs": [],
   "source": [
    "phReg = re.compile(r'''(\n",
    "    (\\d) #第一个\n",
    "    (dd) #第二个\n",
    ")''')"
   ]
  },
  {
   "cell_type": "code",
   "execution_count": 50,
   "metadata": {
    "collapsed": true
   },
   "outputs": [],
   "source": [
    "with open('module_re.eg', 'w') as w:\n",
    "    w.write('''是不是可以的\n",
    "你格式不对宫颈癌\n",
    "大家噶几高\\t科技公司了\n",
    "        的恐惧感吉格斯\n",
    "        可是基督教\\t各回各家\n",
    "        多晶硅栅商量过了\n",
    "高科技公司\n",
    "公司电话的数字\n",
    "红颜色的\n",
    "大使馆的撒谎\n",
    "黄色的\n",
    "撒公司电话\n",
    "特比高兴\n",
    "悲伤地不行\n",
    "的结果加了几个\n",
    "是是的纲领第几个\n",
    "三道杠''')"
   ]
  },
  {
   "cell_type": "code",
   "execution_count": 51,
   "metadata": {},
   "outputs": [
    {
     "name": "stdout",
     "output_type": "stream",
     "text": [
      "['大家噶几高\\t科技公司了\\n', '        多晶硅栅商量过了\\n', '高科技公司\\n', '的结果加了几个\\n']\n"
     ]
    }
   ],
   "source": [
    "p = re.compile(r'科技|了')\n",
    "\n",
    "s_ls =list()\n",
    "\n",
    "with open('module_re.eg', 'r') as f:\n",
    "    lines = f.readlines()\n",
    "\n",
    "for line in lines:\n",
    "    if p.search(line):\n",
    "        s_ls.append(line)\n",
    "        \n",
    "print(s_ls)    "
   ]
  },
  {
   "cell_type": "code",
   "execution_count": 55,
   "metadata": {
    "collapsed": true
   },
   "outputs": [],
   "source": [
    "with open('module_re.eg2', 'w') as w2:\n",
    "    w2.write('''颜色\\t红|黄|绿\n",
    "心情\\t高兴|伤心|悲伤\n",
    "科技\\t高科技|普通\n",
    "句式\\t\\是.*\\t''')"
   ]
  },
  {
   "cell_type": "code",
   "execution_count": 60,
   "metadata": {},
   "outputs": [
    {
     "name": "stdout",
     "output_type": "stream",
     "text": [
      "['颜色\\t红|黄|绿\\n', '心情\\t高兴|伤心|悲伤\\n', '科技\\t高科技|普通\\n', '句式\\t是.*\\\\t']\n"
     ]
    }
   ],
   "source": [
    "with open('module_re.eg2', 'r') as f2:\n",
    "    regLines = f2.readlines()\n",
    "print(regLines)"
   ]
  },
  {
   "cell_type": "code",
   "execution_count": 61,
   "metadata": {},
   "outputs": [],
   "source": [
    "for regLine in regLines:\n",
    "    tp_ls = regLine.split('\\t')\n",
    "    p = re.compile(tp_ls[1])\n",
    "    tg_lines = list()\n",
    "    for line in lines:\n",
    "        if p.search(line):\n",
    "            tg_lines.append(line)\n",
    "    with open(tp_ls[0]+'.txt', 'w') as w3:\n",
    "        w3.writelines(tg_lines)"
   ]
  },
  {
   "cell_type": "code",
   "execution_count": null,
   "metadata": {
    "collapsed": true
   },
   "outputs": [],
   "source": [
    "import os\n",
    "import sys\n",
    "import re\n",
    "\n",
    "txtFile = sys.argv[1]\n",
    "regFile = sys.argv[2]\n",
    "\n",
    "with open(txtFile, 'r') as f1:\n",
    "    txtlines = f1.readlines()\n",
    "\n",
    "with open(regFile, 'r') as f2:\n",
    "    regLines = f2.readlines()\n",
    "    \n",
    "for regLine in regLines:\n",
    "    tp_ls = regLine.split('\\t')\n",
    "    p = re.compile(tp_ls[1])\n",
    "    tg_lines = list()\n",
    "    for txtline in txtlines:\n",
    "        if p.search(txtline):\n",
    "            tg_lines.append(txtline)\n",
    "    with open(tp_ls[0]+'.txt', 'w') as w3:\n",
    "        w3.writelines(tg_lines)\n",
    "    \n"
   ]
  }
 ],
 "metadata": {
  "kernelspec": {
   "display_name": "Python 3",
   "language": "python",
   "name": "python3"
  },
  "language_info": {
   "codemirror_mode": {
    "name": "ipython",
    "version": 3
   },
   "file_extension": ".py",
   "mimetype": "text/x-python",
   "name": "python",
   "nbconvert_exporter": "python",
   "pygments_lexer": "ipython3",
   "version": "3.6.3"
  }
 },
 "nbformat": 4,
 "nbformat_minor": 2
}
