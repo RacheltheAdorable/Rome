{
 "cells": [
  {
   "cell_type": "code",
   "execution_count": null,
   "metadata": {
    "collapsed": true
   },
   "outputs": [],
   "source": [
    "import os\n",
    "\n",
    "os.chdir('/Users/rachelwang/Documents/data-local/meizh.0417/regex1')\n",
    "in_file = '/Users/rachelwang/Documents/data-local/meizh.0417/meizhuang.preprocessed.lined.txt'\n",
    "reg_file = '/Users/rachelwang/Documents/data-local/meizh.0417/regex1/meizh.reg'\n",
    "\n",
    "\n",
    "import re\n",
    "import datetime\n",
    "import time\n",
    "import xlwt #需要的模块\n",
    " \n",
    "def txt2xls(filename,xlsname):  #文本转换成xls的函数，filename 表示一个要被转换的txt文本，xlsname 表示转换后的文件名\n",
    "    #print('converting xls ... ')\n",
    "    f = open(filename)   #打开txt文本进行读取\n",
    "    x = 0                #在excel开始写的位置（y）\n",
    "    y = 0                #在excel开始写的位置（x）\n",
    "    xls=xlwt.Workbook()\n",
    "    sheet = xls.add_sheet('sheet1',cell_overwrite_ok=True) #生成excel的方法，声明excel\n",
    "    while True:  #循环，读取文本里面的所有内容\n",
    "        line = f.readline() #一行一行读取\n",
    "        if not line:  #如果没有内容，则退出循环\n",
    "            break\n",
    "        for i in line.split('\\t'):#读取出相应的内容写到x\n",
    "            item=i.strip()\n",
    "            sheet.write(x,y,item)\n",
    "            y += 1 #另起一列\n",
    "        x += 1 #另起一行\n",
    "        y = 0  #初始成第一列\n",
    "    f.close()\n",
    "    xls.save(xlsname+'.xls') #保存\n",
    "\n",
    "\n",
    "with open(in_file, 'r') as f1:\n",
    "    txtlines = f1.readlines()\n",
    "\n",
    "with open(reg_file, 'r') as f2:\n",
    "    regLines = f2.readlines()\n",
    "    \n",
    "for regLine in regLines:\n",
    "    tp_ls = regLine.split('\\t')\n",
    "    p = re.compile(tp_ls[1])\n",
    "    tg_lines = list()\n",
    "    for txtline in txtlines:\n",
    "        txtchain = txtline.split('\\t')\n",
    "        if len(txtchain)>2 and txtchain[2] == 'C' and p.search(txtchain[4]):\n",
    "            tg_lines.append(txtline)\n",
    "    with open(tp_ls[0]+'.txt', 'w') as w3:\n",
    "        w3.writelines(tg_lines)\n",
    "    txt2xls(tp_ls[0]+'.txt', tp_ls[0]+'.xls')"
   ]
  }
 ],
 "metadata": {
  "kernelspec": {
   "display_name": "Python 3",
   "language": "python",
   "name": "python3"
  },
  "language_info": {
   "codemirror_mode": {
    "name": "ipython",
    "version": 3
   },
   "file_extension": ".py",
   "mimetype": "text/x-python",
   "name": "python",
   "nbconvert_exporter": "python",
   "pygments_lexer": "ipython3",
   "version": "3.6.3"
  }
 },
 "nbformat": 4,
 "nbformat_minor": 2
}
